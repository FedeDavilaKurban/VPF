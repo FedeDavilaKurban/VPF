{
 "cells": [
  {
   "cell_type": "code",
   "execution_count": null,
   "metadata": {},
   "outputs": [],
   "source": [
    "\n",
    "import numpy as np\n",
    "import matplotlib.pyplot as plt"
   ]
  },
  {
   "cell_type": "code",
   "execution_count": null,
   "metadata": {},
   "outputs": [],
   "source": [
    "\n",
    "lbox = 205000\n",
    "ntot = 100000\n",
    "n = 100000\n",
    "\n",
    "namefile = f'../data/ngxs{ntot}_nesf{n}.npz'\n",
    "stats = np.load(namefile)\n",
    "\n",
    "P0 = stats['arr_0']\n",
    "N_mean = stats['arr_1']\n",
    "xi_mean = stats['arr_2']\n",
    "rs = stats['arr_3']\n",
    "\n",
    "chi = -np.log(P0)/N_mean\n",
    "NE = N_mean*xi_mean\n",
    "\n",
    "x = np.geomspace(1E-1,1E1,50)\n",
    "c='k'\n",
    "\n",
    "plt.plot(x,np.log(1+x)/x,label='Negative Binomial',c=c)\n",
    "a=.3\n",
    "plt.plot(x,(1/((1-a)*(x/a)))*((1+x/a)**(1-a)-1),label='Generalized Hierarhichal',c=c,ls='--')\n",
    "#plt.plot(x,(1-np.e**(-x))/x,label='Minimal')\n",
    "plt.plot(x,(np.sqrt(1+2*x)-1)/x,label='Thermodynamical',c=c,ls='-.')\n",
    "#plt.plot(x,1-x/2,label='Gauss')\n",
    "Q=1\n",
    "#plt.plot(x,1-(np.euler_gamma+np.log(4*Q*x))/(8*Q),label='BBGKY',c=c,ls=':')\n",
    "\n",
    "plt.scatter(NE,chi,lw=3,label=f'ngxs={ntot}')\n",
    "\n",
    "\n",
    "ntot = 10000\n",
    "\n",
    "namefile = f'../data/ngxs{ntot}_nesf{n}.npz'\n",
    "stats = np.load(namefile)\n",
    "\n",
    "P0 = stats['arr_0']\n",
    "N_mean = stats['arr_1']\n",
    "xi_mean = stats['arr_2']\n",
    "rs = stats['arr_3']\n",
    "\n",
    "chi = -np.log(P0)/N_mean\n",
    "NE = N_mean*xi_mean\n",
    "\n",
    "plt.scatter(NE,chi,lw=3,label=f'ngxs={ntot}')\n",
    "\n",
    "plt.xscale('log')\n",
    "plt.legend(loc=3)\n",
    "plt.show()\n"
   ]
  },
  {
   "cell_type": "markdown",
   "metadata": {},
   "source": [
    "\n",
    "### =/= ngxs (real space)\n"
   ]
  },
  {
   "cell_type": "markdown",
   "metadata": {},
   "source": [
    "###### Parece que no se mantiene la escala jerárquica"
   ]
  },
  {
   "cell_type": "code",
   "execution_count": null,
   "metadata": {},
   "outputs": [],
   "source": [
    "\n",
    "plt.figure(figsize=(9,6))\n",
    "plt.rcParams['font.size'] = 14\n",
    "x = np.geomspace(1E-2,1E2,50)\n",
    "n = 100000\n",
    "c='k'\n",
    "plt.plot(x,np.log(1+x)/x,label='Negative Binomial',c=c)\n",
    "a=.3\n",
    "plt.plot(x,(1/((1-a)*(x/a)))*((1+x/a)**(1-a)-1),label='Generalized Hierarhichal',c=c,ls='--')\n",
    "plt.plot(x,(np.sqrt(1+2*x)-1)/x,label='Thermodynamical',c=c,ls='-.')\n",
    "\n",
    "for ngxs in [1000,10000,100000,1000000,10000000]:\n",
    "    \n",
    "    namefile = f'../data/ngxs{ngxs}_nesf{n}.npz'\n",
    "    stats = np.load(namefile)\n",
    "\n",
    "    P0 = stats['arr_0']\n",
    "    N_mean = stats['arr_1']\n",
    "    xi_mean = stats['arr_2']\n",
    "    rs = stats['arr_3']\n",
    "\n",
    "    chi = -np.log(P0)/N_mean\n",
    "    NE = N_mean*xi_mean\n",
    "\n",
    "    plt.scatter(NE,chi,ls='-',label=ngxs)\n",
    "\n",
    "plt.xscale('log')   \n",
    "plt.legend(loc=3)\n",
    "plt.show()\n"
   ]
  },
  {
   "cell_type": "markdown",
   "metadata": {},
   "source": [
    "\n",
    "### =/= ngxs (zspace)\n"
   ]
  },
  {
   "cell_type": "markdown",
   "metadata": {},
   "source": [
    "###### La escala jerárquica se ve un poco más, pero debería ver las barras de error"
   ]
  },
  {
   "cell_type": "code",
   "execution_count": null,
   "metadata": {},
   "outputs": [],
   "source": [
    "\n",
    "plt.figure(figsize=(9,6))\n",
    "plt.rcParams['font.size'] = 14\n",
    "x = np.geomspace(1E-2,1E2,50)\n",
    "n = 100000\n",
    "c='k'\n",
    "plt.plot(x,np.log(1+x)/(x),label='Negative Binomial',c=c)\n",
    "a=.3\n",
    "plt.plot(x,(1/((1-a)*(x/a)))*((1+x/a)**(1-a)-1),label='Generalized Hierarhichal',c=c,ls='--')\n",
    "plt.plot(x,(np.sqrt(1+2*x)-1)/x,label='Thermodynamical',c=c,ls='-.')\n",
    "\n",
    "for ngxs in [1000,10000,100000,1000000,10000000]:\n",
    "    \n",
    "    namefile = f'../data/ngxs{ngxs}_nesf{n}_redshiftx.npz'\n",
    "    stats = np.load(namefile)\n",
    "\n",
    "    P0 = stats['arr_0']\n",
    "    N_mean = stats['arr_1']\n",
    "    xi_mean = stats['arr_2']\n",
    "    rs = stats['arr_3']\n",
    "\n",
    "    chi = -np.log(P0)/N_mean\n",
    "    NE = N_mean*xi_mean\n",
    "\n",
    "    plt.scatter(NE,chi,ls='-',label=ngxs)\n",
    "\n",
    "plt.xscale('log')   \n",
    "plt.legend(loc=3)\n",
    "plt.show()\n"
   ]
  },
  {
   "cell_type": "markdown",
   "metadata": {},
   "source": [
    "\n",
    "### Redshifteo de los 3 ejes\n"
   ]
  },
  {
   "cell_type": "markdown",
   "metadata": {},
   "source": [
    "###### Debería ser equivalente redshiftear cualquiera de los ejes, y lo es"
   ]
  },
  {
   "cell_type": "code",
   "execution_count": null,
   "metadata": {},
   "outputs": [],
   "source": [
    "\n",
    "plt.figure(figsize=(9,6))\n",
    "plt.rcParams['font.size'] = 14\n",
    "x = np.geomspace(1E-2,1E2,50)\n",
    "n = 100000\n",
    "c='k'\n",
    "plt.plot(x,np.log(1+x)/x,label='Negative Binomial',c=c)\n",
    "a=.3\n",
    "plt.plot(x,(1/((1-a)*(x/a)))*((1+x/a)**(1-a)-1),label='Generalized Hierarhichal',c=c,ls='--')\n",
    "plt.plot(x,(np.sqrt(1+2*x)-1)/x,label='Thermodynamical',c=c,ls='-.')\n",
    "\n",
    "ngxs = 1000000\n",
    "\n",
    "for axis in ['x','y','z']:\n",
    "    \n",
    "    namefile = f'../data/ngxs{ngxs}_nesf{n}_redshift{axis}.npz'\n",
    "    stats = np.load(namefile)\n",
    "\n",
    "    P0 = stats['arr_0']\n",
    "    N_mean = stats['arr_1']\n",
    "    xi_mean = stats['arr_2']\n",
    "    rs = stats['arr_3']\n",
    "\n",
    "    chi = -np.log(P0)/N_mean\n",
    "    NE = N_mean*xi_mean\n",
    "\n",
    "    plt.plot(NE,chi,ls='-',label=axis)\n",
    "\n",
    "plt.xscale('log')   \n",
    "plt.legend(loc=3)\n",
    "plt.show()\n"
   ]
  },
  {
   "cell_type": "markdown",
   "metadata": {},
   "source": [
    "\n",
    "### Comparacion entre real space y z space\n"
   ]
  },
  {
   "cell_type": "code",
   "execution_count": null,
   "metadata": {},
   "outputs": [],
   "source": [
    "\n",
    "plt.figure(figsize=(9,6))\n",
    "plt.rcParams['font.size'] = 14\n",
    "\n",
    "x = np.geomspace(1E-2,1E2,50)\n",
    "n = 100000\n",
    "c='k'\n",
    "plt.plot(x,np.log(1+x)/x,label='Negative Binomial',c=c)\n",
    "a=.3\n",
    "plt.plot(x,(1/((1-a)*(x/a)))*((1+x/a)**(1-a)-1),label='Generalized Hierarhichal',c=c,ls='--')\n",
    "plt.plot(x,(np.sqrt(1+2*x)-1)/x,label='Thermodynamical',c=c,ls='-.')\n",
    "\n",
    "ngxs = 1000000\n",
    "\n",
    "#Z SPACE\n",
    "namefile = f'../data/ngxs{ngxs}_nesf{n}_redshiftx.npz'\n",
    "stats = np.load(namefile)\n",
    "P0 = stats['arr_0']\n",
    "N_mean = stats['arr_1']\n",
    "xi_mean = stats['arr_2']\n",
    "rs = stats['arr_3']\n",
    "chi = -np.log(P0)/N_mean\n",
    "NE = N_mean*xi_mean\n",
    "plt.plot(NE,chi,lw=3,ls='-',label='zspace')\n",
    "\n",
    "#REAL SPACE\n",
    "namefile = f'../data/ngxs{ngxs}_nesf{n}.npz'\n",
    "stats = np.load(namefile)\n",
    "P0 = stats['arr_0']\n",
    "N_mean = stats['arr_1']\n",
    "xi_mean = stats['arr_2']\n",
    "rs = stats['arr_3']\n",
    "chi = -np.log(P0)/N_mean\n",
    "NE = N_mean*xi_mean\n",
    "plt.plot(NE,chi,lw=3,ls='-',label='realspace')\n",
    "\n",
    "plt.xscale('log')   \n",
    "plt.legend(loc=3)\n",
    "plt.show()\n",
    "\n"
   ]
  },
  {
   "cell_type": "markdown",
   "metadata": {},
   "source": [
    "\n",
    "### Comparacion entre distintos ngxs y realspace/zspace\n"
   ]
  },
  {
   "cell_type": "code",
   "execution_count": null,
   "metadata": {},
   "outputs": [],
   "source": [
    "\n",
    "plt.figure(figsize=(9,6))\n",
    "plt.rcParams['font.size'] = 14\n",
    "\n",
    "x = np.geomspace(1E-1,1E2,50)\n",
    "n = 100000\n",
    "c='k'\n",
    "plt.plot(x,np.log(1+x)/x,label='Negative Binomial',c=c)\n",
    "a=.3\n",
    "plt.plot(x,(1/((1-a)*(x/a)))*((1+x/a)**(1-a)-1),label='Generalized Hierarhichal',c=c,ls='--')\n",
    "plt.plot(x,(np.sqrt(1+2*x)-1)/x,label='Thermodynamical',c=c,ls='-.')\n",
    "\n",
    "ngxss = [1000,10000,100000]\n",
    "\n",
    "c='b'\n",
    "for ngxs in ngxss:\n",
    "    \n",
    "    namefile = f'../data/ngxs{ngxs}_nesf{n}.npz'\n",
    "    stats = np.load(namefile)\n",
    "\n",
    "    P0 = stats['arr_0']\n",
    "    N_mean = stats['arr_1']\n",
    "    xi_mean = stats['arr_2']\n",
    "    rs = stats['arr_3']\n",
    "\n",
    "    chi = -np.log(P0)/N_mean\n",
    "    NE = N_mean*xi_mean\n",
    "\n",
    "    plt.plot(NE,chi,ls='-',c=c)#,label=ngxs)\n",
    "    \n",
    "c='r'\n",
    "for ngxs in ngxss:\n",
    "    \n",
    "    namefile = f'../data/ngxs{ngxs}_nesf{n}_redshiftx.npz'\n",
    "    stats = np.load(namefile)\n",
    "\n",
    "    P0 = stats['arr_0']\n",
    "    N_mean = stats['arr_1']\n",
    "    xi_mean = stats['arr_2']\n",
    "    rs = stats['arr_3']\n",
    "\n",
    "    chi = -np.log(P0)/N_mean\n",
    "    NE = N_mean*xi_mean\n",
    "\n",
    "    plt.plot(NE,chi,ls='-',c=c)#,label=ngxs)\n",
    "\n",
    "plt.xlim([1E-1,1E2])\n",
    "plt.xscale('log')   \n",
    "plt.legend(loc=3)\n",
    "plt.show()\n"
   ]
  },
  {
   "cell_type": "markdown",
   "metadata": {},
   "source": [
    "\n",
    "### Quiero hacer modificaciones al modelo teorico binomial negativo y ver si se apega a la chi en z space\n"
   ]
  },
  {
   "cell_type": "code",
   "execution_count": null,
   "metadata": {},
   "outputs": [],
   "source": [
    "\n",
    "plt.figure(figsize=(9,6))\n",
    "plt.rcParams['font.size'] = 14\n",
    "\n",
    "x = np.geomspace(1E-1,1E2,50)\n",
    "n = 100000\n",
    "c='k'\n",
    "plt.plot(x,np.log(1+x*1)/(x*1),label='Negative Binomial',c=c)\n",
    "a=.7\n",
    "plt.plot(x,(1/((1-a)*(x/a)))*((1+x/a)**(1-a)-1),label='Generalized Hierarhichal',c=c,ls='--')\n",
    "\n",
    "ngx=1000000\n",
    "    \n",
    "namefile = f'../data/ngxs{ngxs}_nesf{n}_redshiftx.npz'\n",
    "stats = np.load(namefile)\n",
    "\n",
    "P0 = stats['arr_0']\n",
    "N_mean = stats['arr_1']\n",
    "xi_mean = stats['arr_2']\n",
    "rs = stats['arr_3']\n",
    "\n",
    "chi = -np.log(P0)/N_mean\n",
    "NE = N_mean*xi_mean\n",
    "\n",
    "plt.plot(NE,chi,ls='-')#,label=ngxs)\n",
    "\n",
    "plt.xlim([1E-1,1E2])\n",
    "plt.xscale('log')   \n",
    "plt.legend(loc=3)\n",
    "plt.show()\n"
   ]
  },
  {
   "cell_type": "markdown",
   "metadata": {},
   "source": [
    "#### Comparacion rspace v zspace para el box sin dilución (allgxs)"
   ]
  },
  {
   "cell_type": "code",
   "execution_count": null,
   "metadata": {},
   "outputs": [],
   "source": [
    "plt.figure(figsize=(9,6))\n",
    "plt.rcParams['font.size'] = 14\n",
    "\n",
    "x = np.geomspace(1E-2,1E3,50)\n",
    "n = 100000\n",
    "c='k'\n",
    "plt.plot(x,np.log(1+x)/x,label='Negative Binomial',c=c)\n",
    "a=.3\n",
    "plt.plot(x,(1/((1-a)*(x/a)))*((1+x/a)**(1-a)-1),label='Generalized Hierarhichal',c=c,ls='--')\n",
    "plt.plot(x,(np.sqrt(1+2*x)-1)/x,label='Thermodynamical',c=c,ls='-.')\n",
    "\n",
    "#Z SPACE\n",
    "namefile = f'../data/allgxs_nesf{n}_redshiftz.npz'\n",
    "stats = np.load(namefile)\n",
    "P0 = stats['arr_0']\n",
    "N_mean = stats['arr_1']\n",
    "xi_mean = stats['arr_2']\n",
    "rs = stats['arr_3']\n",
    "chi = -np.log(P0)/N_mean\n",
    "NE = N_mean*xi_mean\n",
    "plt.scatter(NE,chi,lw=3,ls='-',label='zspace')\n",
    "\n",
    "#REAL SPACE\n",
    "namefile = f'../data/allgxs_nesf{n}.npz'\n",
    "stats = np.load(namefile)\n",
    "P0 = stats['arr_0']\n",
    "N_mean = stats['arr_1']\n",
    "xi_mean = stats['arr_2']\n",
    "rs = stats['arr_3']\n",
    "chi = -np.log(P0)/N_mean\n",
    "NE = N_mean*xi_mean\n",
    "plt.scatter(NE,chi,lw=3,ls='-',label='realspace')\n",
    "\n",
    "plt.xscale('log')   \n",
    "plt.legend(loc=3)\n",
    "plt.show()"
   ]
  },
  {
   "cell_type": "code",
   "execution_count": null,
   "metadata": {},
   "outputs": [],
   "source": [
    "print(rs)"
   ]
  },
  {
   "cell_type": "markdown",
   "metadata": {},
   "source": [
    "#### Plotear con errores jk"
   ]
  },
  {
   "cell_type": "code",
   "execution_count": 17,
   "metadata": {},
   "outputs": [
    {
     "data": {
      "image/png": "[encoded data removed]",
      "text/plain": [
       "<Figure size 900x600 with 1 Axes>"
      ]
     },
     "metadata": {},
     "output_type": "display_data"
    }
   ],
   "source": [
    "import numpy as np\n",
    "import matplotlib.pyplot as plt\n",
    "\n",
    "plt.figure(figsize=(9,6))\n",
    "plt.rcParams['font.size'] = 14\n",
    "\n",
    "x = np.geomspace(1E-2,1E3,50)\n",
    "n = 100000\n",
    "c='k'\n",
    "plt.plot(x,np.log(1+x)/x,label='Negative Binomial',c=c)\n",
    "a=.5\n",
    "plt.plot(x,(1/((1-a)*(x/a)))*((1+x/a)**(1-a)-1),label='Generalized Hierarhichal',c=c,ls='--')\n",
    "plt.plot(x,(np.sqrt(1+2*x)-1)/x,label='Thermodynamical',c=c,ls='-.')\n",
    "\n",
    "ngxs = 10000\n",
    "\n",
    "#Z SPACE\n",
    "namefile = f'../data/allgxs_nesf{n}_redshiftz_jk.npz'\n",
    "stats = np.load(namefile)\n",
    "chi = stats['arr_0']\n",
    "chi_std = stats['arr_1']\n",
    "NXi = stats['arr_2']\n",
    "NXi_std = stats['arr_3']\n",
    "P0 = stats['arr_4']\n",
    "P0_std = stats['arr_5']\n",
    "N_mean = stats['arr_6']\n",
    "N_mean_std = stats['arr_7']\n",
    "xi_mean = stats['arr_8']\n",
    "xi_mean_std = stats['arr_9']\n",
    "rs = stats['arr_10']\n",
    "plt.errorbar(NXi,chi,yerr=chi_std*10,xerr=NXi_std,fmt='o',mfc='None',label='zspace')\n",
    "\n",
    "#Real SPACE\n",
    "namefile = f'../data/allgxs_nesf{n}_jk.npz'\n",
    "stats = np.load(namefile)\n",
    "chi = stats['arr_0']\n",
    "chi_std = stats['arr_1']\n",
    "NXi = stats['arr_2']\n",
    "NXi_std = stats['arr_3']\n",
    "P0 = stats['arr_4']\n",
    "P0_std = stats['arr_5']\n",
    "N_mean = stats['arr_6']\n",
    "N_mean_std = stats['arr_7']\n",
    "xi_mean = stats['arr_8']\n",
    "xi_mean_std = stats['arr_9']\n",
    "rs = stats['arr_10']\n",
    "plt.errorbar(NXi,chi,yerr=chi_std*10,xerr=NXi_std,fmt='o',mfc='None',label='rspace')\n",
    "\n",
    "plt.xscale('log')   \n",
    "plt.legend(loc=3)\n",
    "plt.show()"
   ]
  },
  {
   "cell_type": "code",
   "execution_count": 6,
   "metadata": {},
   "outputs": [
    {
     "data": {
      "text/plain": [
       "array([0.0048461 , 0.0062316 , 0.00314058, 0.00335553, 0.00335583,\n",
       "       0.00218965, 0.00150506, 0.00245145, 0.00213241, 0.00138098,\n",
       "       0.00132538, 0.00101134, 0.00107916, 0.00039577, 0.00040142,\n",
       "       0.00032044, 0.00030378, 0.0001553 , 0.00013774, 0.00022497])"
      ]
     },
     "execution_count": 6,
     "metadata": {},
     "output_type": "execute_result"
    }
   ],
   "source": [
    "chi_std"
   ]
  },
  {
   "cell_type": "code",
   "execution_count": null,
   "metadata": {},
   "outputs": [],
   "source": []
  }
 ],
 "metadata": {
  "interpreter": {
   "hash": "fe2913dc5c6fcc3b875aa7f3f42f09278fa77160a6ee5e864cbc222cbedfa226"
  },
  "kernelspec": {
   "display_name": "Python 3.7.11 ('fede3')",
   "language": "python",
   "name": "python3"
  },
  "language_info": {
   "codemirror_mode": {
    "name": "ipython",
    "version": 3
   },
   "file_extension": ".py",
   "mimetype": "text/x-python",
   "name": "python",
   "nbconvert_exporter": "python",
   "pygments_lexer": "ipython3",
   "version": "3.7.11"
  },
  "orig_nbformat": 4
 },
 "nbformat": 4,
 "nbformat_minor": 2
}
